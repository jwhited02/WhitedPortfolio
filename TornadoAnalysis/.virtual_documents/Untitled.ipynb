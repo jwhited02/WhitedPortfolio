


from matplotlib import pyplot as plt
from matplotlib import ticker
from matplotlib.patches import Rectangle
from matplotlib.colors import LinearSegmentedColormap
from sklearn import datasets
import datetime as datetime64 
import pandas as pd
import numpy as np
import warnings
warnings.filterwarnings('ignore')


#Specifying file paths
tornado_data = "Resources/2023_tornado_activity.csv"

#Reading all data into Pandas
tornado_df = pd.read_csv(tornado_data)


tornado_df


#Narrow dataframe down to only columns needed and rename columns
selected_columns = ['yr', 'mo', 'dy', 'date', 'time', 'st', 'mag', 'loss', 'slat', 'slon']

tornado_cleaned_df = tornado_df[selected_columns]

tornado_cleaned_df.head()


# Rename columns to clarify
tornado_cleaned_df = tornado_cleaned_df.rename(columns=
                                        {'yr': 'Year',
                                            'mo': 'Month',
                                            'dy': 'Day',
                                            'date': 'Date',
                                            'time': 'Time',
                                            'st': 'State',
                                            'mag': 'Magnitude',
                                            'loss': 'Damages',
                                            'slat': 'Starting Lat',
                                            'slon': 'Starting Long'})

tornado_cleaned_df.head()
                                            


# Drop all rows with Magnitude of -9
tornado_cleaned_df = tornado_cleaned_df[tornado_cleaned_df["Magnitude"] != -9]
tornado_cleaned_df


tornado_cleaned_df.dtypes


# Convert 'time' column to timedelta
tornado_cleaned_df['Time'] = pd.to_timedelta(tornado_cleaned_df['Time'])

# Extract the hour component
tornado_cleaned_df['Hour'] = tornado_cleaned_df['Time'].dt.components['hours']

tornado_cleaned_df


# Drop the 'time' column
tornado_cleaned_df = tornado_cleaned_df.drop(columns=['Time','Date'])
tornado_cleaned_df


# Export clean df as csv in Resources folder for communal access
tornado_cleaned_df.to_csv("Resources/tornado_clean.csv")



